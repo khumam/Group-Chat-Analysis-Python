{
 "metadata": {
  "language_info": {
   "codemirror_mode": {
    "name": "ipython",
    "version": 3
   },
   "file_extension": ".py",
   "mimetype": "text/x-python",
   "name": "python",
   "nbconvert_exporter": "python",
   "pygments_lexer": "ipython3",
   "version": "3.7.7-final"
  },
  "orig_nbformat": 2,
  "kernelspec": {
   "name": "Python 3.7.7 64-bit",
   "display_name": "Python 3.7.7 64-bit",
   "metadata": {
    "interpreter": {
     "hash": "5d87b42201e74ac320bc00dce267d44f5f134edfec9046f67f672f289707ff6a"
    }
   }
  }
 },
 "nbformat": 4,
 "nbformat_minor": 2,
 "cells": [
  {
   "cell_type": "code",
   "execution_count": 2,
   "metadata": {},
   "outputs": [],
   "source": [
    "import datapackage\n",
    "import pandas as pd"
   ]
  },
  {
   "cell_type": "code",
   "execution_count": 3,
   "metadata": {},
   "outputs": [
    {
     "output_type": "stream",
     "name": "stdout",
     "text": [
      "          Domain          Type  \\\n",
      "0        .abbott       generic   \n",
      "1       .abogado       generic   \n",
      "2            .ac  country-code   \n",
      "3       .academy       generic   \n",
      "4    .accountant       generic   \n",
      "..           ...           ...   \n",
      "914         .zip       generic   \n",
      "915          .zm  country-code   \n",
      "916        .zone       generic   \n",
      "917     .zuerich       generic   \n",
      "918          .zw  country-code   \n",
      "\n",
      "                               Sponsoring Organisation  \n",
      "0                            Abbott Laboratories, Inc.  \n",
      "1                    Top Level Domain Holdings Limited  \n",
      "2    Network Information Center (AC Domain Registry...  \n",
      "3                                       Half Oaks, LLC  \n",
      "4                               dot Accountant Limited  \n",
      "..                                                 ...  \n",
      "914                      Charleston Road Registry Inc.  \n",
      "915  Zambia Information and Communications Technolo...  \n",
      "916                                   Outer Falls, LLC  \n",
      "917                   Kanton Zürich (Canton of Zurich)  \n",
      "918  Postal and Telecommunications Regulatory Autho...  \n",
      "\n",
      "[919 rows x 3 columns]\n",
      "          Domain          Type  \\\n",
      "0        .abbott       generic   \n",
      "1       .abogado       generic   \n",
      "2            .ac  country-code   \n",
      "3       .academy       generic   \n",
      "4    .accountant       generic   \n",
      "..           ...           ...   \n",
      "914         .zip       generic   \n",
      "915          .zm  country-code   \n",
      "916        .zone       generic   \n",
      "917     .zuerich       generic   \n",
      "918          .zw  country-code   \n",
      "\n",
      "                               Sponsoring Organisation  \n",
      "0                            Abbott Laboratories, Inc.  \n",
      "1                    Top Level Domain Holdings Limited  \n",
      "2    Network Information Center (AC Domain Registry...  \n",
      "3                                       Half Oaks, LLC  \n",
      "4                               dot Accountant Limited  \n",
      "..                                                 ...  \n",
      "914                      Charleston Road Registry Inc.  \n",
      "915  Zambia Information and Communications Technolo...  \n",
      "916                                   Outer Falls, LLC  \n",
      "917                   Kanton Zürich (Canton of Zurich)  \n",
      "918  Postal and Telecommunications Regulatory Autho...  \n",
      "\n",
      "[919 rows x 3 columns]\n"
     ]
    }
   ],
   "source": [
    "data_url = 'https://datahub.io/core/top-level-domain-names/datapackage.json'\n",
    "\n",
    "# to load Data Package into storage\n",
    "package = datapackage.Package(data_url)\n",
    "\n",
    "# to load only tabular data\n",
    "resources = package.resources\n",
    "for resource in resources:\n",
    "    if resource.tabular:\n",
    "        data = pd.read_csv(resource.descriptor['path'])"
   ]
  },
  {
   "cell_type": "code",
   "execution_count": null,
   "metadata": {},
   "outputs": [],
   "source": []
  }
 ]
}