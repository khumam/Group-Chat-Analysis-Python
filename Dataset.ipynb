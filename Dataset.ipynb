{
 "metadata": {
  "language_info": {
   "codemirror_mode": {
    "name": "ipython",
    "version": 3
   },
   "file_extension": ".py",
   "mimetype": "text/x-python",
   "name": "python",
   "nbconvert_exporter": "python",
   "pygments_lexer": "ipython3",
   "version": "3.7.7-final"
  },
  "orig_nbformat": 2,
  "kernelspec": {
   "name": "Python 3.7.7 64-bit",
   "display_name": "Python 3.7.7 64-bit",
   "metadata": {
    "interpreter": {
     "hash": "5d87b42201e74ac320bc00dce267d44f5f134edfec9046f67f672f289707ff6a"
    }
   }
  }
 },
 "nbformat": 4,
 "nbformat_minor": 2,
 "cells": [
  {
   "cell_type": "code",
   "execution_count": 18,
   "metadata": {},
   "outputs": [],
   "source": [
    "import pandas as pd"
   ]
  },
  {
   "cell_type": "code",
   "execution_count": 19,
   "metadata": {},
   "outputs": [
    {
     "output_type": "stream",
     "name": "stdout",
     "text": [
      ".com\n"
     ]
    }
   ],
   "source": [
    "data = pd.read_csv('D:\\Project\\Self\\Pakar\\domain.csv', skiprows=0)\n",
    "# res = data['Domain'].str.contains('com').any()\n",
    "# res\n",
    "res = data.loc[data['Domain'] == '.com']\n",
    "print(res['Domain'].values[0])"
   ]
  },
  {
   "cell_type": "code",
   "execution_count": 33,
   "metadata": {},
   "outputs": [
    {
     "output_type": "execute_result",
     "data": {
      "text/plain": [
       "                           url label\n",
       "0       diaryofagameaddict.com   bad\n",
       "1             espdesign.com.au   bad\n",
       "2           iamagameaddict.com   bad\n",
       "3                kalantzis.net   bad\n",
       "4        slightlyoffcenter.net   bad\n",
       "...                        ...   ...\n",
       "420459         23.227.196.215/   bad\n",
       "420460      apple-checker.org/   bad\n",
       "420461       apple-iclods.org/   bad\n",
       "420462      apple-uptoday.org/   bad\n",
       "420463       apple-search.info   bad\n",
       "\n",
       "[420464 rows x 2 columns]"
      ],
      "text/html": "<div>\n<style scoped>\n    .dataframe tbody tr th:only-of-type {\n        vertical-align: middle;\n    }\n\n    .dataframe tbody tr th {\n        vertical-align: top;\n    }\n\n    .dataframe thead th {\n        text-align: right;\n    }\n</style>\n<table border=\"1\" class=\"dataframe\">\n  <thead>\n    <tr style=\"text-align: right;\">\n      <th></th>\n      <th>url</th>\n      <th>label</th>\n    </tr>\n  </thead>\n  <tbody>\n    <tr>\n      <th>0</th>\n      <td>diaryofagameaddict.com</td>\n      <td>bad</td>\n    </tr>\n    <tr>\n      <th>1</th>\n      <td>espdesign.com.au</td>\n      <td>bad</td>\n    </tr>\n    <tr>\n      <th>2</th>\n      <td>iamagameaddict.com</td>\n      <td>bad</td>\n    </tr>\n    <tr>\n      <th>3</th>\n      <td>kalantzis.net</td>\n      <td>bad</td>\n    </tr>\n    <tr>\n      <th>4</th>\n      <td>slightlyoffcenter.net</td>\n      <td>bad</td>\n    </tr>\n    <tr>\n      <th>...</th>\n      <td>...</td>\n      <td>...</td>\n    </tr>\n    <tr>\n      <th>420459</th>\n      <td>23.227.196.215/</td>\n      <td>bad</td>\n    </tr>\n    <tr>\n      <th>420460</th>\n      <td>apple-checker.org/</td>\n      <td>bad</td>\n    </tr>\n    <tr>\n      <th>420461</th>\n      <td>apple-iclods.org/</td>\n      <td>bad</td>\n    </tr>\n    <tr>\n      <th>420462</th>\n      <td>apple-uptoday.org/</td>\n      <td>bad</td>\n    </tr>\n    <tr>\n      <th>420463</th>\n      <td>apple-search.info</td>\n      <td>bad</td>\n    </tr>\n  </tbody>\n</table>\n<p>420464 rows × 2 columns</p>\n</div>"
     },
     "metadata": {},
     "execution_count": 33
    }
   ],
   "source": [
    "url = pd.read_csv(\"urldata.csv\", skiprows=0)\n",
    "url"
   ]
  },
  {
   "cell_type": "code",
   "execution_count": null,
   "metadata": {},
   "outputs": [],
   "source": []
  }
 ]
}