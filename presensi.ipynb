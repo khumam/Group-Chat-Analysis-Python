{
 "metadata": {
  "language_info": {
   "codemirror_mode": {
    "name": "ipython",
    "version": 3
   },
   "file_extension": ".py",
   "mimetype": "text/x-python",
   "name": "python",
   "nbconvert_exporter": "python",
   "pygments_lexer": "ipython3",
   "version": "3.7.7-final"
  },
  "orig_nbformat": 2,
  "kernelspec": {
   "name": "python3",
   "display_name": "Python 3.7.7 64-bit",
   "metadata": {
    "interpreter": {
     "hash": "5d87b42201e74ac320bc00dce267d44f5f134edfec9046f67f672f289707ff6a"
    }
   }
  }
 },
 "nbformat": 4,
 "nbformat_minor": 2,
 "cells": [
  {
   "cell_type": "code",
   "execution_count": 11,
   "metadata": {},
   "outputs": [],
   "source": [
    "mhs = [\n",
    "    [4611417003, \"Aina Rihhadatul'aisy Abiyyah\"],\n",
    "    [4611417005, \"Deyolla Virgitania\"],\n",
    "    [4611417007, \"Eva Waty Tampubolon\"],\n",
    "    [4611417009, \"Fitri Amalia Langgundi\"],\n",
    "    [4611417010, \"Khoerul Umam\"],\n",
    "    [4611417011, \"Adelia Kurniawati\"],\n",
    "    [4611417012, \"Alsandy Maulana\"],\n",
    "    [4611417013, \"Saka Oktaviani\"],\n",
    "    [4611417014, \"Hafsah Nur Thoyyibah Istiqomah\"],\n",
    "    [4611417016, \"Arifatul Khasanah\"],\n",
    "    [4611417017, \"Anindya Heranika\"],\n",
    "    [4611417024, \"AMIRA HEVATASHA\"],\n",
    "    [4611417026, \"BINA ESTHERLY\"],\n",
    "    [4611417029, \"AHMAD FAWAID\"],\n",
    "    [4611417030, \"MUHAMAD IKHSAN HADI\"],\n",
    "    [4611417032, \"INDAH SEKAR ARUM\"],\n",
    "    [4611417035, \"FEBRYAN SURYA SHANTIKA\"],\n",
    "    [4611417040, \"JATMIKO AMUNG PRASOJO\"],\n",
    "    [4611417047, \"M ZAKKI MAHATIR\"],\n",
    "    [4611417054, \"ROZAK ILHAM ADITYA\"],\n",
    "    [4611417055, \"SULTHAN DAFFA FIRZATULLAH\"],\n",
    "    [4611417057, \"ROZAKUL BARKHI\"],\n",
    "    [4611417061, \"MUHAMMAD ULIL ALBAB\"],\n",
    "    [4611417063, \"ANGGA ADIANSYA\"],\n",
    "    [4611417070, \"Epafraditus Memoriano\"],\n",
    "    [4611418002, \"Rima Ayu Cahyani\"],\n",
    "    [4611418009, \"Muhammad Kahfi Aulia\"],\n",
    "    [4611418013, \"Dandi Indra Wijaya\"],\n",
    "    [4611418016, \"Riela Meiva Annisa\"],\n",
    "    [4611418026, \"MUHAMMAD AINUL AFIF\"],\n",
    "    [4611418039, \"ANANTA KWARTA DURIANTO\"]\n",
    "];\n"
   ]
  },
  {
   "cell_type": "code",
   "execution_count": 12,
   "metadata": {},
   "outputs": [
    {
     "output_type": "error",
     "ename": "SyntaxError",
     "evalue": "invalid character in identifier (<ipython-input-12-7835bab1abed>, line 1)",
     "traceback": [
      "\u001b[1;36m  File \u001b[1;32m\"<ipython-input-12-7835bab1abed>\"\u001b[1;36m, line \u001b[1;32m1\u001b[0m\n\u001b[1;33m    hadir = [4611417055, ​4611417026, ​4611417010, 4611417011, ​4611418009, ​4611417032, ​4611417063,  ​4611418013,  ​4611417035, ​4611417061,  4611417054, ​4611417016,  ​4611418002,  ​4611417040, ​4611417007,  ​4611417047, 4611417014, ​4611418016, ​4611417070, 4611417029, ​4611417005,  4611417017, ​4611417013];\u001b[0m\n\u001b[1;37m                                   ^\u001b[0m\n\u001b[1;31mSyntaxError\u001b[0m\u001b[1;31m:\u001b[0m invalid character in identifier\n"
     ]
    }
   ],
   "source": [
    "hadir = [4611417055, ​4611417026, ​4611417010, 4611417011, ​4611418009, ​4611417032, ​4611417063,  ​4611418013,  ​4611417035, ​4611417061,  4611417054, ​4611417016,  ​4611418002,  ​4611417040, ​4611417007,  ​4611417047, 4611417014, ​4611418016, ​4611417070, 4611417029, ​4611417005,  4611417017, ​4611417013];"
   ]
  },
  {
   "cell_type": "code",
   "execution_count": 13,
   "metadata": {},
   "outputs": [
    {
     "output_type": "execute_result",
     "data": {
      "text/plain": [
       "[[4611417003, \"Aina Rihhadatul'aisy Abiyyah\"],\n",
       " [4611417005, 'Deyolla Virgitania'],\n",
       " [4611417007, 'Eva Waty Tampubolon'],\n",
       " [4611417009, 'Fitri Amalia Langgundi'],\n",
       " [4611417010, 'Khoerul Umam'],\n",
       " [4611417011, 'Adelia Kurniawati'],\n",
       " [4611417012, 'Alsandy Maulana'],\n",
       " [4611417013, 'Saka Oktaviani'],\n",
       " [4611417014, 'Hafsah Nur Thoyyibah Istiqomah'],\n",
       " [4611417016, 'Arifatul Khasanah'],\n",
       " [4611417017, 'Anindya Heranika'],\n",
       " [4611417024, 'AMIRA HEVATASHA'],\n",
       " [4611417026, 'BINA ESTHERLY'],\n",
       " [4611417029, 'AHMAD FAWAID'],\n",
       " [4611417030, 'MUHAMAD IKHSAN HADI'],\n",
       " [4611417032, 'INDAH SEKAR ARUM'],\n",
       " [4611417035, 'FEBRYAN SURYA SHANTIKA'],\n",
       " [4611417040, 'JATMIKO AMUNG PRASOJO'],\n",
       " [4611417047, 'M ZAKKI MAHATIR'],\n",
       " [4611417054, 'ROZAK ILHAM ADITYA'],\n",
       " [4611417055, 'SULTHAN DAFFA FIRZATULLAH'],\n",
       " [4611417057, 'ROZAKUL BARKHI'],\n",
       " [4611417061, 'MUHAMMAD ULIL ALBAB'],\n",
       " [4611417063, 'ANGGA ADIANSYA'],\n",
       " [4611417070, 'Epafraditus Memoriano'],\n",
       " [4611418002, 'Rima Ayu Cahyani'],\n",
       " [4611418009, 'Muhammad Kahfi Aulia'],\n",
       " [4611418013, 'Dandi Indra Wijaya'],\n",
       " [4611418016, 'Riela Meiva Annisa'],\n",
       " [4611418026, 'MUHAMMAD AINUL AFIF'],\n",
       " [4611418039, 'ANANTA KWARTA DURIANTO']]"
      ]
     },
     "metadata": {},
     "execution_count": 13
    }
   ],
   "source": [
    "mhs"
   ]
  },
  {
   "cell_type": "code",
   "execution_count": null,
   "metadata": {},
   "outputs": [],
   "source": []
  }
 ]
}