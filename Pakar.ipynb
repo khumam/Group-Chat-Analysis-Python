{
 "metadata": {
  "language_info": {
   "codemirror_mode": {
    "name": "ipython",
    "version": 3
   },
   "file_extension": ".py",
   "mimetype": "text/x-python",
   "name": "python",
   "nbconvert_exporter": "python",
   "pygments_lexer": "ipython3",
   "version": "3.7.7-final"
  },
  "orig_nbformat": 2,
  "kernelspec": {
   "name": "Python 3.7.7 64-bit",
   "display_name": "Python 3.7.7 64-bit",
   "metadata": {
    "interpreter": {
     "hash": "5d87b42201e74ac320bc00dce267d44f5f134edfec9046f67f672f289707ff6a"
    }
   }
  }
 },
 "nbformat": 4,
 "nbformat_minor": 2,
 "cells": [
  {
   "source": [
    "# Group Chat Analysis System\n",
    "Merupakan suatu sistem untuk menganalisa suatu pesan di dalam group apakah termasuk pesan yang baik, buruk, benar, atau hoax. Dengan analisa tersebut, nantinya dapat disimpulkan bahwa semakin tinggi dan banyak pesan yang teranalisa buruk atau hoax maka group tersebut dapat dipastikan adalah group yang tidak benar. Dan sebaliknya, jika di dalam grup tersebut banyak pesan baik dan informasi yang disampaikan adalah benar, maka dapat disimpulkan bahwa group tersebut adalah group yang baik.\n",
    "\n",
    "Sistem ini disusun oleh\n",
    "\n",
    "- Fitri Amalia Langgundi\n",
    "- Khoerul Umam\n",
    "- Muhammad Ikhsan Hadi\n",
    "- Rozak Ilham Aditya\n",
    "\n",
    "Dalam mata kuliah : Sistem Pakar"
   ],
   "cell_type": "markdown",
   "metadata": {}
  },
  {
   "source": [
    "### Group Chat Analysis \n",
    "Inisalisasi library yang dibutuhkan. Beberapa library yang digunakan diantaranya, library untuk memfilter pesan, library untuk mengolah link, library untuk mengolah dataset, library untuk menentukan tingkat karakteristik pesan, dan library lain akan ditambahkan seiring dengan bertambahnya kompleksitas sistem"
   ],
   "cell_type": "markdown",
   "metadata": {}
  },
  {
   "cell_type": "code",
   "execution_count": 13,
   "metadata": {},
   "outputs": [],
   "source": [
    "import re\n",
    "import tldextract\n",
    "import pandas as pd\n",
    "import numpy as np\n",
    "from difflib import SequenceMatcher as sm"
   ]
  },
  {
   "source": [
    "#### Inisialisai Class\n",
    "Class yang digunakan diberi nama class Pakar. Di dalamnya terdapat berbagai fungsi yang akan memproses data pesan sehingga dapat diketahui karakteristik pesan tersebut. Saat ini sistem hanya dapat memproses satu per satu pesan."
   ],
   "cell_type": "markdown",
   "metadata": {}
  },
  {
   "cell_type": "code",
   "execution_count": 14,
   "metadata": {},
   "outputs": [],
   "source": [
    "class Pakar:\n",
    "    def __init__ (self):\n",
    "        self.text = ''\n",
    "        self.text_cl = ''\n",
    "        self.link = []\n",
    "        self.domaindataset = pd.read_csv('domain.csv', skiprows=0)\n",
    "        self.badurl = pd.read_csv('urldata.csv', skiprows=0)\n",
    "        self.result_hoax = []\n",
    "        self.result_kata = 0\n",
    "        self.mean_kotor = []\n",
    "\n",
    "    def process(self, text):\n",
    "        self.text = text\n",
    "        self.text_cl = re.sub(r'https?:\\/\\/\\S*', \"\", text)\n",
    "        self.checkLink()\n",
    "        self.checkText(True)\n",
    "        self.checkText(False)\n",
    "\n",
    "    def checkLink(self):\n",
    "        regex = r\"(?i)\\b((?:https?://|www\\d{0,3}[.]|[a-z0-9.\\-]+[.][a-z]{2,4}/)(?:[^\\s()<>]+|\\(([^\\s()<>]+|(\\([^\\s()<>]+\\)))*\\))+(?:\\(([^\\s()<>]+|(\\([^\\s()<>]+\\)))*\\)|[^\\s`!()\\[\\]{};:'\\\".,<>?«»“”‘’]))\"\n",
    "        url = re.findall(regex, self.text)       \n",
    "        for x in url:\n",
    "            link = x[0]\n",
    "            domain = tldextract.extract(x[0])\n",
    "            suffix = domain.suffix\n",
    "\n",
    "            if (domain.suffix == ''):\n",
    "                suffix = domain.domain\n",
    "            \n",
    "            checkDomain = self.domaindataset.loc[self.domaindataset['Domain'] == '.' + suffix]\n",
    "            checkUrl = self.badurl.loc[self.badurl['url'] == x[0]]\n",
    "\n",
    "            if checkUrl.empty == False:\n",
    "                self.link.append([link, checkUrl['label'], checkDomain['Domain'].values, checkDomain['Type'].values, checkDomain['Sponsoring Organisation'].values])\n",
    "                \n",
    "            if (link.find('https') != -1):\n",
    "                if (checkDomain.empty == False):\n",
    "                    self.link.append([link, 'Aman', checkDomain['Domain'].values, checkDomain['Type'].values, checkDomain['Sponsoring Organisation'].values])\n",
    "                else:\n",
    "                    self.link.append([link, 'Mencurigakan', checkDomain['Domain'].values, checkDomain['Type'].values, checkDomain['Sponsoring Organisation'].values])\n",
    "            else:\n",
    "                if (checkDomain.empty == False):\n",
    "                    self.link.append([link, 'Keamanan Lemah', checkDomain['Domain'].values, checkDomain['Type'].values, checkDomain['Sponsoring Organisation'].values])\n",
    "                else:\n",
    "                    self.link.append([link, 'Bahaya', checkDomain['Domain'].values, checkDomain['Type'].values, checkDomain['Sponsoring Organisation'].values])\n",
    "\n",
    "    def checkText(self, hoax = True):\n",
    "        mean_kotor = []\n",
    "        if hoax:\n",
    "            dataset = pd.read_csv('D:\\Project\\Self\\Pakar\\hoax.csv', header=None)\n",
    "            for index, row in dataset.iterrows():\n",
    "                self.result_hoax.append([index, sm(None, self.text_cl, row[0]).ratio()])\n",
    "            self.result_hoax = sorted(self.result_hoax, key=lambda x: x[1], reverse=True)\n",
    "        else:\n",
    "            dataset = pd.read_csv('D:\\Project\\Self\\Pakar\\katakotor.csv', header=None)\n",
    "            for word in self.text_cl.split():\n",
    "                for index, row in dataset.iterrows():\n",
    "                    mean_kotor.append(sm(None, word, row[0]).ratio())\n",
    "                # self.result_kata.append([index, sm(None, self.text_cl, row[0]).ratio()])\n",
    "            # self.result_kata = sorted(self.result_kata, key=lambda x: x[1], reverse=True)\n",
    "            self.result_kata = np.mean(np.array(mean_kotor))\n",
    "\n",
    "    def get_domain_dt(self):\n",
    "        return self.domaindataset\n",
    "    \n",
    "    def get_result(self):\n",
    "        return self.result\n",
    "\n",
    "    def get_text(self):\n",
    "        print(self.text)\n",
    "        print(self.text_cl)\n",
    "\n",
    "    def show_result(self):\n",
    "        print('Tingkat ke-hoax-an pesan: ', round(self.result_hoax[0][1], 3))\n",
    "        print('Tingkat ke-kotoran-an pesan: ', round(self.result_kata, 3), '\\n')\n",
    "        if (self.link != None):\n",
    "            for x in self.link:\n",
    "                print('Link: ', x[0], ' terindikasi ', x[1])\n",
    "                print('Domain: ', x[2])\n",
    "                print('Tipe Link: ', x[3])\n",
    "                print('Keterangan: ', x[4], '\\n')\n",
    "\n",
    "\n"
   ]
  },
  {
   "source": [
    "### Testing\n",
    "Testing digunakan per pesan. Dilakukan seperti di bawah ini, pesan akan diketahui seberapa dekat karakteristik dengan dataset yang digunakan, termasuk jika ada link di dalamnya, akan di ketahui link mana yang berbahaya dan link mana yang aman."
   ],
   "cell_type": "markdown",
   "metadata": {}
  },
  {
   "cell_type": "code",
   "execution_count": 22,
   "metadata": {},
   "outputs": [],
   "source": [
    "t = Pakar()\n",
    "t.process('anjing bangsat lo http://test.test https://test.com')"
   ]
  },
  {
   "cell_type": "code",
   "execution_count": 23,
   "metadata": {
    "tags": []
   },
   "outputs": [
    {
     "output_type": "stream",
     "name": "stdout",
     "text": [
      "Tingkat ke-hoax-an pesan:  0.44\nTingkat ke-kotoran-an pesan:  0.149 \n\nLink:  http://test.test  terindikasi  Bahaya\nDomain:  []\nTipe Link:  []\nKeterangan:  [] \n\nLink:  https://test.com  terindikasi  Aman\nDomain:  ['.com']\nTipe Link:  ['generic']\nKeterangan:  ['VeriSign Global Registry Services'] \n\n"
     ]
    }
   ],
   "source": [
    "t.show_result()"
   ]
  },
  {
   "cell_type": "code",
   "execution_count": null,
   "metadata": {},
   "outputs": [],
   "source": []
  }
 ]
}